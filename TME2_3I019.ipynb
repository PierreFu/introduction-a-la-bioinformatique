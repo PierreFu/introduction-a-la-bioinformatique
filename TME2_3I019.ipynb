{
 "cells": [
  {
   "cell_type": "markdown",
   "metadata": {},
   "source": [
    "# TME 2 : Prédiction de gènes\n",
    "\n",
    "\n",
    "\n",
    "## Partie 1 : Détection de gènes candidats\n",
    "\n",
    "\n",
    "Le but de cette partie est d’annoter les régions dans le génome qui correspondent à des gènes. Nous allons prendre en compte les différents éléments qui définissent un gène pour pouvoir déterminer les candidats à des régions codantes : phases ouvertes de lecture, propriétés statistiques du code génétique, et comparer les résultats avec l’annotation qui est disponible. \n",
    "Nous nous baserons sur le génome de _Bifidobacterium actinocoloniiforme_ que nous avons commencé à analyser au TME précédent, avec ses annotations et au génome de _Escherichia coli_\n"
   ]
  },
  {
   "cell_type": "markdown",
   "metadata": {},
   "source": [
    "+ (mise en route) Adapter les commandes du TME précédent pour télécharger le génome de _E. coli_ ainsi que ses annotations\n",
    "\n",
    "ftp://ftp.ncbi.nlm.nih.gov/genomes/all/GCF/000/026/345/GCF_000026345.1_ASM2634v1/GCF_000026345.1_ASM2634v1_genomic.fna.gz\n",
    "\n",
    "ftp://ftp.ncbi.nlm.nih.gov/genomes/all/GCF/000/026/345/GCF_000026345.1_ASM2634v1/GCF_000026345.1_ASM2634v1_feature_table.txt.gz\n"
   ]
  },
  {
   "cell_type": "code",
   "execution_count": 2,
   "metadata": {},
   "outputs": [],
   "source": [
    "\n",
    "##Dictionnaire codons -> acides aminés. Les codons stops sont représentés\n",
    "##avec le caractère \"*\"\n",
    "codeGenetique = {\"TTT\":\"F\",\"TTC\":\"F\",\"TTA\":\"L\",\"TTG\":\"L\",\"TCT\":\"S\",\"TCC\":\"S\",\n",
    "\t\t\t\t\"TCA\":\"S\",\"TCG\":\"S\",\"TAT\":\"Y\",\"TAC\":\"Y\",\"TAA\":\"*\",\"TAG\":\"*\",\n",
    "\t\t\t\t\"TGT\":\"C\",\"TGC\":\"C\",\"TGA\":\"*\",\"TGG\":\"W\",\"CTT\":\"L\",\"CTC\":\"L\",\n",
    "\t\t\t\t\"CTA\":\"L\",\"CTG\":\"L\",\"CCT\":\"P\",\"CCC\":\"P\",\"CCA\":\"P\",\"CCG\":\"P\",\n",
    "\t\t\t\t\"CAT\":\"H\",\"CAC\":\"H\",\"CAA\":\"Q\",\"CAG\":\"Q\",\"CGT\":\"R\",\"CGC\":\"R\",\n",
    "\t\t\t\t\"CGA\":\"R\",\"CGG\":\"R\",\"ATT\":\"I\",\"ATC\":\"I\",\"ATA\":\"I\",\"ATG\":\"M\",\n",
    "\t\t\t\t\"ACT\":\"T\",\"ACC\":\"T\",\"ACA\":\"T\",\"ACG\":\"T\",\"AAT\":\"N\",\"AAC\":\"N\",\n",
    "\t\t\t\t\"AAA\":\"K\",\"AAG\":\"K\",\"AGT\":\"S\",\"AGC\":\"S\",\"AGA\":\"R\",\"AGG\":\"R\",\n",
    "\t\t\t\t\"GTT\":\"V\",\"GTC\":\"V\",\"GTA\":\"V\",\"GTG\":\"V\",\"GCT\":\"A\",\"GCC\":\"A\",\n",
    "\t\t\t\t\"GCA\":\"A\",\"GCG\":\"A\",\"GAT\":\"D\",\"GAC\":\"D\",\"GAA\":\"E\",\"GAG\":\"E\",\n",
    "\t\t\t\t\"GGT\":\"G\",\"GGC\":\"G\",\"GGA\":\"G\",\"GGG\":\"G\"}\n",
    "\n",
    "#Utliser la sequence testSeq pour tester vos fonctions\n",
    "testSeq = \"ATGAAACGCATTAGCMMCACCATTACCACCACCATCACCATTACCACAGKTAACGGTGCGGGCTGA\""
   ]
  },
  {
   "cell_type": "markdown",
   "metadata": {},
   "source": [
    "### A) Annotation des phases ouvertes de lecture et traduction en séquence protéique\n",
    "\n",
    "<b>Question 1)</b> Parfois dans les génomes (représentés par des fichiers numériques), nous trouvons des nucléotides qui n'ont pas été correctement identifiés par la machine de séquençage. Certains instruments nous restreignent les possibilités à un sous-ensemble de nucléotides. Ecrire une fonction `remplaceNonIden` qui remplace les nucléotides non identifiés par une de possibilités listées ci-desous de façon aléatoire.<br>\n",
    "\n",
    "R = G,A (purine)<br>\n",
    "Y = T,C (pyrimidine)<br>\n",
    "K = G,T (céto)<br>\n",
    "M = A,C (amino)<br>\n",
    "S = G,C (obligations solides)<br>\n",
    "W = A,T (Les liaisons faibles)<br>\n",
    "B = G,T,C (tous sauf A)<br>\n",
    "D = G,A,T (tous sauf C)<br>\n",
    "H = A,C,T (tous sauf G)<br>\n",
    "V = G,C,A (tous sauf T)<br>\n",
    "N = A,G,C,T (any)<br>\n",
    "X = A,G,C,T (any)<br>\n",
    "\n"
   ]
  },
  {
   "cell_type": "code",
   "execution_count": 5,
   "metadata": {},
   "outputs": [
    {
     "name": "stdout",
     "output_type": "stream",
     "text": [
      "\n"
     ]
    }
   ],
   "source": [
    "# Question 1 \n",
    "def remplaceNonIden(seq):\n",
    "    seq_cleaned = \"\"\n",
    "    return seq_cleaned\n",
    "\n",
    "testSeqClean =  remplaceNonIden(testSeq)\n",
    "print (testSeqClean)\n",
    "#Resultat attendu\n",
    "#\"ATGAAACGCATTAGCACCACCATTACCACCACCATCACCATTACCACAGGTAACGGTGCGGGCTGA\""
   ]
  },
  {
   "cell_type": "markdown",
   "metadata": {},
   "source": [
    "<b>Question 2)</b> Ecrire une fonction `listeCodon` qui renvoie une liste de codons pour une séquence passée en paramètre. Par exemple, si on passe la séquence ``AACGTGGCA`` comme paramètre votre fonction doit renvoyer ``[‘AAC’, ‘GTG’, ‘GCA’]``. Si la longueur de la séquence n'est pas un multiple de 3 on ne tiendra pas compte des 1 ou 2 nucléotides restant à la fin.\n"
   ]
  },
  {
   "cell_type": "code",
   "execution_count": 6,
   "metadata": {},
   "outputs": [
    {
     "name": "stdout",
     "output_type": "stream",
     "text": [
      "[]\n"
     ]
    }
   ],
   "source": [
    "# Question 2 \n",
    "def listeCodon(seq):\n",
    "    lcodons = []\n",
    "    return lcodons\n",
    "\n",
    "#Resultat attendu\n",
    "lcodons = listeCodon(testSeqClean)\n",
    "print (lcodons)\n",
    "#Resultat attendu\n",
    "#['ATG', 'AAA', 'CGC', 'ATT', 'AGC', 'ACC', 'ACC', 'ATT', 'ACC', 'ACC', 'ACC', 'ATC', 'ACC', 'ATT', 'ACC', 'ACA', 'GGT', 'AAC', 'GGT', 'GCG', 'GGC', 'TGA']"
   ]
  },
  {
   "cell_type": "markdown",
   "metadata": {},
   "source": [
    "<b>Question 2)</b> Ecrire une fonction `listeORFS` qui retourne la liste de tous les cadres ouverts de lectures, c'est à dire les séquence commençant par un des codons start: ``ATG``, ``GTG``, ``TTG`` (``ATG`` est le plus fréquent) et finissant par un des codons stop : ``TAA``, ``TAG``, ``TGA``. Vous renverrez les séquences pour les 6 phases de lecture (3 pour le brin sens et 3 pour le brin complémentaire). Ces séquences sont nommées séquences CDS (pour _CoDing Sequences_ en anglais) et les phases ouvertes de lecture ORFS (pour _Open Reading Frame_). <br>\n",
    "Note 1 : si plusieurs start sont trouvés dans la même phase de lecture qu'un stop et en amont de celui ci, le CDS débute par conventions au start le plus en amont. <br>\n",
    "Note 2 : les CDS peuvent se chevaucher (sur différentes phases et éventuellement sur le brin d'ADN complémentaire).\n"
   ]
  },
  {
   "cell_type": "code",
   "execution_count": 7,
   "metadata": {},
   "outputs": [
    {
     "name": "stdout",
     "output_type": "stream",
     "text": [
      "[]\n"
     ]
    }
   ],
   "source": [
    "\n",
    "# Question 3\n",
    "def listeORFS(seq):\n",
    "    orfs = []\n",
    "    return orfs\n",
    "\n",
    "orfs = listeORFS(testSeqClean)\n",
    "print (orfs)\n",
    "#Resultat attendu\n",
    "#\"TCAGCCCGCACCGTTACCTGTGGTAATGGTGATGGTGGTGGTAATGGTGGTGCTAATGCGTTTCAT\"\n"
   ]
  },
  {
   "cell_type": "markdown",
   "metadata": {},
   "source": [
    "<b>Question 4)</b> Ecrire une fonction `reversecompl` qui renvoie le brin complémentaire d’une séquence passée en paramètre. Par exemple, si on passe la séquence ``AACGTGGCA`` comme paramètre votre fonction doit renvoyer ``TGCCACGTT``.\n"
   ]
  },
  {
   "cell_type": "code",
   "execution_count": 8,
   "metadata": {},
   "outputs": [
    {
     "name": "stdout",
     "output_type": "stream",
     "text": [
      "\n"
     ]
    }
   ],
   "source": [
    "# Question 4\n",
    "def reversecompl(seq):\n",
    "    revseq = \"\"\n",
    "    return revseq\n",
    "revseq = reversecompl(testSeqClean)\n",
    "print (revseq)\n",
    "#Resultat attendu\n",
    "#\"TCAGCCCGCACCGTTACCTGTGGTAATGGTGATGGTGGTGGTAATGGTGGTGCTAATGCGTTTCAT\" "
   ]
  },
  {
   "cell_type": "markdown",
   "metadata": {},
   "source": [
    "<b>Question 5)</b> Développez une fonction `traduitProt` qui étant donné un gène renvoie la protéine traduite. Utilisez le dictionnaire définit ci dessous."
   ]
  },
  {
   "cell_type": "code",
   "execution_count": 9,
   "metadata": {},
   "outputs": [
    {
     "name": "stdout",
     "output_type": "stream",
     "text": [
      "\n"
     ]
    }
   ],
   "source": [
    "# Question 5\n",
    "def traduitProt(seq, codeGenetique):\n",
    "    tradseq = \"\"\n",
    "    return tradseq\n",
    "\n",
    "tradseq = traduitProt(testSeqClean, codeGenetique)\n",
    "print (tradseq)\n",
    "#Resultat attendu\n",
    "#\"KRISTTITTTITITTGNGAG*\""
   ]
  },
  {
   "cell_type": "markdown",
   "metadata": {},
   "source": [
    "### B) Analyse des phases ouvertes de lecture\n",
    "\n",
    "<b>Question 1)</b> Utilisez votre fonction `listeORFS` qui trouve toutes les ORFs pour ne trouver que les ORFs d’un génome sur le brin sens, c'est à dire pour trois premières phases. Sauvegarder l'ensemble des ORFs trouvé dans un fichier de type fasta.\n"
   ]
  },
  {
   "cell_type": "code",
   "execution_count": null,
   "metadata": {
    "collapsed": true
   },
   "outputs": [],
   "source": [
    "# Question 1\n",
    "# charger le fichier fasta du génome E. coli\n",
    "# extraire les ORFs\n",
    "# sauvegarder un fichier fasta avec les ORFs"
   ]
  },
  {
   "cell_type": "markdown",
   "metadata": {},
   "source": [
    "\n",
    "<b>Question 2)</b> Dessinez un histogramme (avec matplotlib) de la distribution de longueur des ORFs détectés précédemment, que remarquez vous ? \n"
   ]
  },
  {
   "cell_type": "code",
   "execution_count": null,
   "metadata": {
    "collapsed": true
   },
   "outputs": [],
   "source": [
    "# Question 2\n",
    "# Plot avec matplotlib\n",
    "import matplotlib.pyplot as pl\n",
    "\n",
    "lORFS = listORFs(genome)\n",
    "# calculer les longueurs des ORFs\n",
    "lenORFs = map(len, lORFS)\n",
    "\n",
    "# Affichage de l'histogramme\n",
    "nbins= 50\n",
    "pl.figure()\n",
    "pl.hist(lenORFs, nbins)"
   ]
  },
  {
   "cell_type": "markdown",
   "metadata": {},
   "source": [
    "\n",
    "<b>Question 3)</b> Utilisez la question précédente pour fixer un seuil pour dire qu’un ORF est un gène. (par exemple plus que 99 nucléotides). En déduire une première annotation des gènes dans le génome de _Escherichia coli_. Vous produirez un fichier tab avec les positions de tous les ORFs annotés. Quels gènes du brin positif vont être ratés à votre avis ? "
   ]
  },
  {
   "cell_type": "code",
   "execution_count": null,
   "metadata": {},
   "outputs": [],
   "source": [
    "# Question 3\n",
    "# Fichier d'annotation des ORFs\n"
   ]
  },
  {
   "cell_type": "markdown",
   "metadata": {},
   "source": [
    "### Partie 2 : Evaluation des résultats\n",
    "\n",
    "#### A) Matrice de confusion et mesures de performance \n",
    "\n",
    "Il est nécessaire d’avoir une méthode pour évaluer la qualité des prédictions obtenues pour les coordonnées des gènes. Est ce que certains gènes sont ratés par la prédiction, ou est-ce qu’au contraire certains des gènes sont systématiquement surannotés alors qu’il s’agit d’une région intergénique (entre les gènes) ? Toute l’information peut être résumée en construisant le tableau de valeurs suivante, appelée matrice de confusion. Pour cela nous attribuons à chaque nucléotide d’un génome donné la valeur 0 ou 1, 0 si le nucléotide ne fait pas partie d’un gène et 1 si il en fait partie. La matrice de confusion est calculée comme ce tableau. \n",
    "\n",
    "![](matriceconfusion.png \"\")\n",
    "\n",
    "On résume ensuite la qualité de l’annotation avec les métriques suivantes : \n",
    "\n",
    "   + La sensibilité  (= ``11/(11+10)``) <br>\n",
    "Sen = (le taux de vrais positifs) / (le taux de vrais positifs + le taux de faux négatifs)\n",
    "\n",
    "   + La spécificité (= ``00 / (00+01)``) <br>\n",
    "Spe = (le taux de vrais négatifs) / (le taux de vrais négatifs + le taux de faux positifs)\n",
    "\n",
    "   + La valeur prédictive VP (= ``11 / (11+01)``) est le taux de vrais positifs parmi ceux prédits comme positifs <br>\n",
    "VP = (le taux de vrais positifs) / (le taux de vrais positifs + le taux de faux positifs)\n",
    "\n",
    "\n",
    "<b>Question 4)</b> Ecrivez une fonction qui calcule la Sen et la Spe et VP à partir d’une matrice de confusion et renvoie un tuple à trois dimensions. La matrice de confusion sera codée comme un tableau à deux dimension, _e.g._ une liste de listes.\n",
    "\n"
   ]
  },
  {
   "cell_type": "code",
   "execution_count": null,
   "metadata": {
    "collapsed": true
   },
   "outputs": [],
   "source": [
    "# Question 4\n",
    "def evalRes(matconf):\n",
    "    return (sen,spe,vp)\n"
   ]
  },
  {
   "cell_type": "markdown",
   "metadata": {},
   "source": [
    "<b>Question 5)</b> Ecrivez une fonction ``ecrit_intervalle`` qui, à partir des deux listes des positions de début et de fin des gènes sur le brin positif et de la longueur du génome, recode une grande liste avec la valeur 1 pour les positions qui sont des gènes et 0 sinon. Attention, il faut tenir compte des cas possibles où des gènes se chevauchent. Vous pourrez par exemple initialiser une liste avec ``lg`` valeurs à ``0`` et traiter ensuite les intervalles séquentiellement.\n"
   ]
  },
  {
   "cell_type": "code",
   "execution_count": 11,
   "metadata": {},
   "outputs": [],
   "source": [
    "\n",
    "# Question 5\n",
    "def ecrit_intervalle(posdeb, posfin, lgenome):\n",
    "    lcode =[]\n",
    "    return lcode\n",
    "\n",
    "# exemple \n",
    "lg = 22\n",
    "positions_debut = [3,11,16]\n",
    "positions_fin = [8,13,21] \n",
    "\n",
    "li = ecrit_intervalle(positions_debut, positions_fin, lg)\n",
    "# On doit avoir li égal à [0,0,1,1,1,1,1,1,0,0,1,1,1,0,0,1,1,1,1,1,1,0]. \n",
    "\n"
   ]
  },
  {
   "cell_type": "markdown",
   "metadata": {},
   "source": [
    "\n",
    "<b>Question 6)</b> Ecrivez la fonction ``compare_intervalle`` qui compare deux listes produites par la fonction ``ecrit_intervalle``, et renvoie la matrice de confusion. <br>\n",
    "    Par exemple, si les deux listes données en paramètre sont <br> \n",
    "    ``génome =[0,0,1,1,1,1,1,1,0,0,1,1,1,0,0,1,1,1,1,1,1,0]`` et <br>\n",
    "    ``ORFs   =[0,0,0,1,1,1,1,0,0,0,1,1,1,0,0,0,0,1,1,1,1,0]``, on a :<br>\n",
    "\n",
    "|            | ORFs (*0*) | ORFs (*1*) |\n",
    "|------------|----------|----------|\n",
    "| Genome (*0*) | 7        | 0        |\n",
    "| Genome (*1*) | 4        | 11       |"
   ]
  },
  {
   "cell_type": "code",
   "execution_count": null,
   "metadata": {},
   "outputs": [],
   "source": [
    "# question 6\n",
    "def compare_intervalles(int1, int2):\n",
    "    return "
   ]
  },
  {
   "cell_type": "markdown",
   "metadata": {},
   "source": [
    "### B) Evaluation sur _E. coli_\n",
    "\n",
    "<b>Question 1)</b> Appliquez ``compare_intervalle`` à l’annotation des gènes sur le brin positif et à la prédiction par les ORFs pour générer la matrice de confusion. Et calculez ensuite la Sen et la Spe et VP pour évaluer l’annotation. **Attention, certains gènes définit dans les fichiers .tab sont non-codant (rRNA transfer, rRNA ribossomal). Ces gènes ne commencent pas par un codon START et  nous allons les ignorer dans notre comparaison**. Donnez les résultats pour l’annotation obtenue à la question précédente pour le génome de Coli. Est ce que cela vous semble être un bon résultat ?\n",
    "\n",
    "<b>Question 2)</b> Analyse des résultats. Pour comprendre les limitations d'une méthode de prédiction on doit toujours analyser dans un second temps les erreurs faites par le programme. En détectant des erreurs récurrente, il est plus facile de proposer ensuite des améliorations. Donnez deux exemples de régions d'au moins 50 nucléotides consécutifs qui sont :\n",
    "    - un faux négatif (gène raté)\n",
    "    - un faux positif (gène inexistant)\n",
    "A votre avis à quoi ces deux types d'erreurs sont-elles dues ? \n"
   ]
  },
  {
   "cell_type": "code",
   "execution_count": null,
   "metadata": {
    "collapsed": true
   },
   "outputs": [],
   "source": [
    "# Question 1"
   ]
  },
  {
   "cell_type": "code",
   "execution_count": null,
   "metadata": {},
   "outputs": [],
   "source": [
    "# Question 2"
   ]
  }
 ],
 "metadata": {
  "kernelspec": {
   "display_name": "Python 3",
   "language": "python",
   "name": "python3"
  },
  "language_info": {
   "codemirror_mode": {
    "name": "ipython",
    "version": 3
   },
   "file_extension": ".py",
   "mimetype": "text/x-python",
   "name": "python",
   "nbconvert_exporter": "python",
   "pygments_lexer": "ipython3",
   "version": "3.6.3"
  }
 },
 "nbformat": 4,
 "nbformat_minor": 2
}
